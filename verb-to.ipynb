{
 "cells": [
  {
   "cell_type": "code",
   "execution_count": 4,
   "metadata": {
    "ExecuteTime": {
     "end_time": "2024-06-13T14:35:57.409919Z",
     "start_time": "2024-06-13T14:35:56.697973Z"
    }
   },
   "outputs": [],
   "source": [
    "from collections import defaultdict\n",
    "\n",
    "import pandas as pd # data processing, CSV file I/O (e.g. pd.read_csv)\n",
    "from tqdm import tqdm"
   ]
  },
  {
   "cell_type": "code",
   "execution_count": 19,
   "outputs": [],
   "source": [
    "df = pd.read_csv(\"../processed.csv\")\n",
    "\n",
    "keys = zip(df['artist'], df['song'])\n",
    "vals = [text.replace(\"\\n\",\" \") for text in df['text'].tolist()]\n",
    "all_songs_2 = dict(zip(keys, vals))"
   ],
   "metadata": {
    "collapsed": false,
    "ExecuteTime": {
     "end_time": "2024-06-13T14:42:40.590834Z",
     "start_time": "2024-06-13T14:42:40.016728Z"
    }
   }
  },
  {
   "cell_type": "code",
   "execution_count": 5,
   "outputs": [],
   "source": [
    "import re\n",
    "\n",
    "def find_contexts(dictionary, regex, of):\n",
    "    d = defaultdict(list)\n",
    "    for key, value in dictionary.items():\n",
    "        matches = regex.finditer(str(value))\n",
    "        m = [match.group(0).strip(\"'\") for match in matches]\n",
    "        if len(m) > 0:\n",
    "            d[key] = m\n",
    "    sorted_dict = dict(sorted(d.items()))\n",
    "    for k, context in sorted_dict.items():\n",
    "        print(f\"{k}: '{context}'\", file=of, flush=True)"
   ],
   "metadata": {
    "collapsed": false,
    "ExecuteTime": {
     "start_time": "2024-06-13T14:35:58.696039Z"
    }
   }
  },
  {
   "cell_type": "code",
   "execution_count": 6,
   "outputs": [],
   "source": [
    "def find_v_plus_to(song_dict, output_filename):\n",
    "    verbs = [\n",
    "        ('agree', 'agreed', 'agrees'),\n",
    "        ('ask', 'asked', 'asks'),\n",
    "        ('tell', 'told', 'tells'),\n",
    "        ('expect', 'expected', 'expects'),\n",
    "        ('learn', 'learned', 'learns', 'learnt'),\n",
    "        ('manage', 'managed', 'manages'),\n",
    "        ('help', 'helped', 'helps'),\n",
    "        ('decide', 'decided', 'decides'),\n",
    "        ('offer', 'offered', 'offers'),\n",
    "        ('promise', 'promised', 'promises'),\n",
    "        ('want', 'wanted', 'wants'),\n",
    "        ('refuse', 'refused', 'refuses'),\n",
    "        ('need', 'needed', 'needs')\n",
    "    ]\n",
    "    \n",
    "    of = open(output_filename, 'w')\n",
    "    of.write('VERB + TO\\n')\n",
    "    \n",
    "    progress = tqdm(verbs, desc='VERB + TO')\n",
    "    for forms in progress:\n",
    "        progress.set_postfix_str(forms[0].upper())\n",
    "        pattern = re.compile(r'((?:\\w+\\s+){0,2}\\b(?:' + '|'.join(forms) + r')\\s+to\\b(?! you\\b)\\b(?! a\\b)\\b(?! the\\b)(?! me\\b)(?:\\s+\\w+){2})', re.IGNORECASE)\n",
    "        of.write('\\n' + forms[0].upper() + '\\n')\n",
    "        find_contexts(song_dict, pattern, of)\n",
    "        of.flush()"
   ],
   "metadata": {
    "collapsed": false,
    "ExecuteTime": {
     "start_time": "2024-06-13T14:35:59.312781Z"
    }
   }
  },
  {
   "cell_type": "code",
   "execution_count": 7,
   "outputs": [],
   "source": [
    "def find_v_plus_ing(song_dict, output_filename):\n",
    "    verbs = [\n",
    "        # ('like',),\n",
    "        ('liked', 'likes'),\n",
    "        ('love', 'loved', 'loves'),\n",
    "        ('hate', 'hated', 'hates'),\n",
    "        ('keen on', 'was keen on', 'is keen on'),\n",
    "        (\"can't stand\", \"couldn't stand\", \"can't stand\"),\n",
    "        ('look forward to', 'looked forward to', 'looks forward to'),\n",
    "        ('miss', 'missed', 'misses'),\n",
    "        ('enjoy', 'enjoyed', 'enjoys'),\n",
    "        ('fancy', 'fancied', 'fancies'),\n",
    "        ('give up', 'gave up', 'gives up'),\n",
    "        ('practise', 'practised', 'practises')\n",
    "    ]\n",
    "    \n",
    "    of = open(output_filename, 'w')\n",
    "    of.write('VERB + ING\\n')\n",
    "    \n",
    "    progress = tqdm(verbs, desc='VERB + ING')\n",
    "    for forms in progress:\n",
    "        progress.set_postfix_str(forms[0].upper())\n",
    "        pattern = re.compile(r'((?:\\w+\\s+){3}\\b(?:' + '|'.join(forms) + r')\\s+\\b(?!nothing\\b)\\b(?!everything\\b)\\b(?!something\\b)\\b(?!anything\\b)\\w+ing\\b(?:\\s+\\w+){3})', re.IGNORECASE)\n",
    "        # if forms[0] == 'like':\n",
    "        #     pattern = re.compile(r'(\\b(?:\\s+\\w+){0,2}\\b(?!just\\b)\\b(?!feel\\b)\\s+like\\s+\\b(?!nothing\\b)\\b(?!everything\\b)\\b(?!something\\b)\\b(?!anything\\b)\\w+ing\\b(?:\\s+\\w+){3})', re.IGNORECASE)\n",
    "        of.write('\\n' + forms[0].upper() + '\\n')\n",
    "        find_contexts(song_dict, pattern, of)\n",
    "        of.flush()"
   ],
   "metadata": {
    "collapsed": false,
    "ExecuteTime": {
     "start_time": "2024-06-13T14:36:00.664719Z"
    }
   }
  },
  {
   "cell_type": "code",
   "execution_count": 22,
   "outputs": [],
   "source": [
    "def find_verb(forms, song_dict):\n",
    "    # output_filename = '_'+'_'.join(forms)+'.txt'\n",
    "    # print(output_filename)\n",
    "    \n",
    "    # of = open(output_filename, 'w')\n",
    "    of=None\n",
    "    \n",
    "    pattern = re.compile(r'((?:\\w+\\s+){3}\\b(?:' + '|'.join(forms) + r')\\s+\\w+ing\\b(?:\\s+\\w+){3})', re.IGNORECASE)\n",
    "    print('\\n' + forms[0].upper() + '\\n', file=of)\n",
    "    find_contexts(song_dict, pattern, of)"
   ],
   "metadata": {
    "collapsed": false,
    "ExecuteTime": {
     "end_time": "2024-06-13T14:43:54.175308Z",
     "start_time": "2024-06-13T14:43:54.171004Z"
    }
   }
  },
  {
   "cell_type": "code",
   "execution_count": 24,
   "outputs": [
    {
     "name": "stdout",
     "output_type": "stream",
     "text": [
      "_promise_promises_promisesd.txt\n"
     ]
    }
   ],
   "source": [
    "# find_verb(['consider', 'considers', 'considered'], all_songs_2)\n",
    "find_verb(['promise', 'promises', 'promised'], all_songs_2)"
   ],
   "metadata": {
    "collapsed": false,
    "ExecuteTime": {
     "end_time": "2024-06-13T14:45:35.685903Z",
     "start_time": "2024-06-13T14:45:23.893152Z"
    }
   }
  },
  {
   "cell_type": "code",
   "execution_count": 20,
   "outputs": [],
   "source": [
    "# find_v_plus_to(all_songs_2, 'v_plus_to.txt')\n",
    "# find_v_plus_ing(all_songs_2, 'v_plus_ing.txt')"
   ],
   "metadata": {
    "collapsed": false,
    "ExecuteTime": {
     "start_time": "2024-06-13T14:42:41.172028Z"
    }
   }
  },
  {
   "cell_type": "code",
   "execution_count": null,
   "outputs": [],
   "source": [],
   "metadata": {
    "collapsed": false
   }
  }
 ],
 "metadata": {
  "language_info": {
   "name": "python"
  },
  "kernelspec": {
   "name": "python3",
   "language": "python",
   "display_name": "Python 3 (ipykernel)"
  }
 },
 "nbformat": 4,
 "nbformat_minor": 4
}
