{
 "cells": [
  {
   "cell_type": "code",
   "execution_count": null,
   "metadata": {},
   "outputs": [],
   "source": [
    "from collections import defaultdict\n",
    "\n",
    "import pandas as pd # data processing, CSV file I/O (e.g. pd.read_csv)\n",
    "from tqdm import tqdm"
   ]
  },
  {
   "cell_type": "code",
   "execution_count": null,
   "metadata": {},
   "outputs": [],
   "source": [
    "import re\n",
    "\n",
    "def find_contexts(dictionary, regex, of):\n",
    "    d = defaultdict(list)\n",
    "    for key, value in dictionary.items():\n",
    "        matches = regex.finditer(str(value))\n",
    "        m = [match.group(0).strip(\"'\") for match in matches]\n",
    "        if len(m) > 0:\n",
    "            d[key] = m\n",
    "    sorted_dict = dict(sorted(d.items()))\n",
    "    for k, context in sorted_dict.items():\n",
    "        print(f\"{k}: '{context}'\", file=of)"
   ]
  },
  {
   "cell_type": "code",
   "execution_count": null,
   "metadata": {},
   "outputs": [],
   "source": [
    "def find_v_plus_to(song_dict, output_filename):\n",
    "    verbs = [\n",
    "        ('agree', 'agreed', 'agrees'),\n",
    "        ('ask', 'asked', 'asks'),\n",
    "        ('tell', 'told', 'tells'),\n",
    "        ('expect', 'expected', 'expects'),\n",
    "        ('learn', 'learned', 'learns', 'learnt'),\n",
    "        ('manage', 'managed', 'manages'),\n",
    "        ('help', 'helped', 'helps'),\n",
    "        ('decide', 'decided', 'decides'),\n",
    "        ('offer', 'offered', 'offers'),\n",
    "        ('promise', 'promised', 'promises'),\n",
    "        ('want', 'wanted', 'wants'),\n",
    "        ('refuse', 'refused', 'refuses'),\n",
    "        ('need', 'needed', 'needs')\n",
    "    ]\n",
    "    \n",
    "    of = open(output_filename, 'w')\n",
    "    of.write('VERB + TO\\n')\n",
    "    \n",
    "    progress = tqdm(verbs, desc='VERB + TO')\n",
    "    for forms in progress:\n",
    "        progress.set_postfix_str(forms[0].upper())\n",
    "        pattern = re.compile(r'((?:\\w+\\s+){0,2}\\b(?:' + '|'.join(forms) + r')\\s+to\\b(?! you\\b)\\b(?! a\\b)\\b(?! the\\b)(?! me\\b)(?:\\s+\\w+){2})', re.IGNORECASE)\n",
    "        of.write('\\n' + forms[0].upper() + '\\n')\n",
    "        find_contexts(song_dict, pattern, of)\n",
    "        of.flush()"
   ]
  },
  {
   "cell_type": "code",
   "execution_count": null,
   "metadata": {},
   "outputs": [],
   "source": [
    "def find_v_plus_ing(song_dict, output_filename):\n",
    "    verbs = [\n",
    "        # ('like',),\n",
    "        ('liked', 'likes'),\n",
    "        ('love', 'loved', 'loves'),\n",
    "        ('hate', 'hated', 'hates'),\n",
    "        ('keen on', 'was keen on', 'is keen on'),\n",
    "        (\"can't stand\", \"couldn't stand\", \"can't stand\"),\n",
    "        ('look forward to', 'looked forward to', 'looks forward to'),\n",
    "        ('miss', 'missed', 'misses'),\n",
    "        ('enjoy', 'enjoyed', 'enjoys'),\n",
    "        ('fancy', 'fancied', 'fancies'),\n",
    "        ('give up', 'gave up', 'gives up'),\n",
    "        ('practise', 'practised', 'practises')\n",
    "    ]\n",
    "    \n",
    "    of = open(output_filename, 'w')\n",
    "    of.write('VERB + ING\\n')\n",
    "    \n",
    "    progress = tqdm(verbs, desc='VERB + ING')\n",
    "    for forms in progress:\n",
    "        progress.set_postfix_str(forms[0].upper())\n",
    "        pattern = re.compile(r'((?:\\w+\\s+){3}\\b(?:' + '|'.join(forms) + r')\\s+\\b(?!nothing\\b)\\b(?!everything\\b)\\b(?!something\\b)\\b(?!anything\\b)\\w+ing\\b(?:\\s+\\w+){3})', re.IGNORECASE)\n",
    "        # if forms[0] == 'like':\n",
    "        #     pattern = re.compile(r'(\\b(?:\\s+\\w+){0,2}\\b(?!just\\b)\\b(?!feel\\b)\\s+like\\s+\\b(?!nothing\\b)\\b(?!everything\\b)\\b(?!something\\b)\\b(?!anything\\b)\\w+ing\\b(?:\\s+\\w+){3})', re.IGNORECASE)\n",
    "        of.write('\\n' + forms[0].upper() + '\\n')\n",
    "        find_contexts(song_dict, pattern, of)\n",
    "        of.flush()"
   ]
  },
  {
   "cell_type": "code",
   "execution_count": null,
   "metadata": {},
   "outputs": [],
   "source": [
    "df = pd.read_csv(\"./processed.csv\")\n",
    "\n",
    "keys = zip(df['artist'], df['song'])\n",
    "vals = [text.replace(\"\\n\",\" \") for text in df['text'].tolist()]\n",
    "all_songs_2 = dict(zip(keys, vals))\n",
    "# find_v_plus_to(all_songs_2, 'v_plus_to.txt')\n",
    "find_v_plus_ing(all_songs_2, 'v_plus_ing.txt')"
   ]
  },
  {
   "cell_type": "code",
   "execution_count": null,
   "metadata": {},
   "outputs": [],
   "source": []
  }
 ],
 "metadata": {
  "language_info": {
   "name": "python"
  }
 },
 "nbformat": 4,
 "nbformat_minor": 4
}
